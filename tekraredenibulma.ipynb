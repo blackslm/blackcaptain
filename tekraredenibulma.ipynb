{
 "cells": [
  {
   "cell_type": "code",
   "execution_count": null,
   "metadata": {},
   "outputs": [],
   "source": [
    "my_list=[2,4,6,8,10,14,2,4,12,14,16,20,22,24,28,20] \n",
    "for i in range (len(my_list)):\n",
    "    K=my_list[i] \n",
    "    for j in range(i+1,len(my_list)):\n",
    "          if my_list[j]==K:\n",
    "            print(my_list[j])\n",
    "           \n",
    "            \n",
    "                "
   ]
  }
 ],
 "metadata": {
  "kernelspec": {
   "display_name": "Python 3",
   "language": "python",
   "name": "python3"
  },
  "language_info": {
   "codemirror_mode": {
    "name": "ipython",
    "version": 3
   },
   "file_extension": ".py",
   "mimetype": "text/x-python",
   "name": "python",
   "nbconvert_exporter": "python",
   "pygments_lexer": "ipython3",
   "version": "3.7.1"
  }
 },
 "nbformat": 4,
 "nbformat_minor": 2
}
